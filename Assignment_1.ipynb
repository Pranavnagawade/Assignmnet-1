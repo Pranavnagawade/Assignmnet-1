{
  "cells": [
    {
      "cell_type": "code",
      "source": [
        "#1.Delete the elements in an linked list whose sum is equal to zero\n",
        "\n",
        "class Node():\n",
        "    def __init__(self,value):\n",
        "        self.value=value\n",
        "        self.nextnode=None\n",
        "class LinkedList():\n",
        "    def __init__(self):\n",
        "        self.head=None\n",
        "    \n",
        "    def add_element(self,value):\n",
        "        node=Node(value)\n",
        "        if self.head is None:\n",
        "            self.head=node\n",
        "            return\n",
        "        crnt_node=self.head\n",
        "        while True:\n",
        "            if crnt_node.nextnode is None:\n",
        "                crnt_node.nextnode=node\n",
        "                break\n",
        "            crnt_node=crnt_node.nextnode\n",
        "\n",
        "    def print_llist(self):\n",
        "        crnt_node=self.head     \n",
        "        v_llist=[]\n",
        "        while True:\n",
        "            print(crnt_node.value,end='->')\n",
        "            v_llist.append(crnt_node.value) \n",
        "            if crnt_node.nextnode is None:              \n",
        "                break\n",
        "            crnt_node=crnt_node.nextnode\n",
        "        print('None')\n",
        "        return v_llist\n",
        "        \n",
        "    def print_modified_llist(self):\n",
        "        p_add=0\n",
        "        v_llist=self.print_llist()\n",
        "        for i in range(len(v_llist)-1):\n",
        "            p_add=p_add+v_llist[i]\n",
        "        if v_llist[-1]>0 and p_add>0:\n",
        "            print(p_add,v_llist[-1])\n",
        "        elif v_llist[-1]<0 and p_add>0:\n",
        "            print(p_add+v_list[-1])\n",
        "        elif v_llist[-1]<0 and p_add<0:\n",
        "            print(v_llist[-1],p_add)\n",
        "            \n",
        "\n",
        "sll=LinkedList()\n",
        "sll.add_element(4)\n",
        "sll.print_llist()\n",
        "sll.add_element(6)\n",
        "sll.print_llist()\n",
        "sll.add_element(-10)\n",
        "sll.print_llist()\n",
        "sll.add_element(8)\n",
        "sll.print_llist()\n",
        "sll.add_element(9)\n",
        "sll.print_llist()\n",
        "sll.add_element(10)\n",
        "sll.print_llist()\n",
        "sll.add_element(-19)\n",
        "sll.print_llist()\n",
        "sll.add_element(10)\n",
        "sll.print_llist()\n",
        "sll.add_element(-18)\n",
        "sll.print_llist()\n",
        "sll.add_element(20)\n",
        "sll.print_llist()\n",
        "sll.add_element(25)\n",
        "sll.print_llist()\n",
        "sll.print_modified_llist()"
      ],
      "metadata": {
        "id": "sw4jlbX25imP",
        "colab": {
          "base_uri": "https://localhost:8080/"
        },
        "outputId": "2faf9f23-5354-41ad-ad1a-a8e04642fcdf"
      },
      "execution_count": 1,
      "outputs": [
        {
          "output_type": "stream",
          "name": "stdout",
          "text": [
            "4->None\n",
            "4->6->None\n",
            "4->6->-10->None\n",
            "4->6->-10->8->None\n",
            "4->6->-10->8->9->None\n",
            "4->6->-10->8->9->10->None\n",
            "4->6->-10->8->9->10->-19->None\n",
            "4->6->-10->8->9->10->-19->10->None\n",
            "4->6->-10->8->9->10->-19->10->-18->None\n",
            "4->6->-10->8->9->10->-19->10->-18->20->None\n",
            "4->6->-10->8->9->10->-19->10->-18->20->25->None\n",
            "4->6->-10->8->9->10->-19->10->-18->20->25->None\n",
            "20 25\n"
          ]
        }
      ]
    },
    {
      "cell_type": "code",
      "source": [
        "#2.Reverse a linked list in groups of given size\n",
        "class Node:\n",
        "\tdef __init__(self, data):\n",
        "\t\tself.data = data\n",
        "\t\tself.next = None\n",
        "\n",
        "# Reverses the linked list in groups\n",
        "# of size k and returns the pointer\n",
        "# to the new head node.\n",
        "\n",
        "\n",
        "def reverse(head, k):\n",
        "\tif not head or k == 1:\n",
        "\t\treturn head\n",
        "\tdummy = Node(-1) \n",
        "\tdummy.next = head\n",
        "\tprev = dummy\n",
        "\tcurr = dummy\n",
        "\tnext = dummy\n",
        "\tcount = 0\n",
        "\ttoLoop = 0\n",
        "\ti = 0\n",
        "\twhile curr:\n",
        "\t\tcurr = curr.next\n",
        "\t\tcount += 1\n",
        "\twhile next:\n",
        "\t\tcurr = prev.next \n",
        "\t\tnext = curr.next \n",
        "\t\ttoLoop = count > k and k or count - 1\n",
        "\t\tfor i in range(1, toLoop):\n",
        "\t\t\tcurr.next = next.next\n",
        "\t\t\tnext.next = prev.next\n",
        "\t\t\tprev.next = next\n",
        "\t\t\tnext = curr.next\n",
        "\t\tprev = curr\n",
        "\t\tcount -= k\n",
        "\treturn dummy.next\n",
        "\n",
        "def printList(node):\n",
        "\twhile node is not None:\n",
        "\t\tprint(node.data, end=\" \")\n",
        "\t\tnode = node.next\n",
        "head = Node(1)\n",
        "head.next = Node(2)\n",
        "head.next.next = Node(3)\n",
        "head.next.next.next = Node(4)\n",
        "head.next.next.next.next = Node(5)\n",
        "head.next.next.next.next.next = Node(6)\n",
        "head.next.next.next.next.next.next = Node(7)\n",
        "head.next.next.next.next.next.next.next = Node(8)\n",
        "head.next.next.next.next.next.next.next.next = Node(9)\n",
        "\n",
        "print(\"Given linked list\")\n",
        "printList(head)\n",
        "head = reverse(head, 3)\n",
        "\n",
        "print(\"\\nReversed Linked list\")\n",
        "printList(head)\n"
      ],
      "metadata": {
        "colab": {
          "base_uri": "https://localhost:8080/"
        },
        "id": "t_lBjH5e_tA0",
        "outputId": "0f2421b3-1163-44ea-8a50-17b1a16be378"
      },
      "execution_count": 5,
      "outputs": [
        {
          "output_type": "stream",
          "name": "stdout",
          "text": [
            "Given linked list\n",
            "1 2 3 4 5 6 7 8 9 \n",
            "Reversed Linked list\n",
            "3 2 1 6 5 4 9 8 7 "
          ]
        }
      ]
    },
    {
      "cell_type": "code",
      "source": [
        "#3. Merge a linked list into another linked list at alternate positions.\n",
        "\n",
        "class Node(object):\n",
        "\tdef __init__(self, data:int):\n",
        "\t\tself.data = data\n",
        "\t\tself.next = None\n",
        "\n",
        "\n",
        "class LinkedList(object):\n",
        "\tdef __init__(self):\n",
        "\t\tself.head = None\n",
        "\t\t\n",
        "\tdef push(self, new_data:int):\n",
        "\t\tnew_node = Node(new_data)\n",
        "\t\tnew_node.next = self.head\n",
        "\t\tself.head = new_node\n",
        "\tdef printList(self):\n",
        "\t\ttemp = self.head\n",
        "\t\twhile temp != None:\n",
        "\t\t\tprint(temp.data)\n",
        "\t\t\ttemp = temp.next\n",
        "\tdef merge(self, p, q):\n",
        "\t\tp_curr = p.head\n",
        "\t\tq_curr = q.head\n",
        "\t\twhile p_curr != None and q_curr != None:\n",
        "\t\t\tp_next = p_curr.next\n",
        "\t\t\tq_next = q_curr.next\n",
        "\t\t\tq_curr.next = p_next \n",
        "\t\t\tp_curr.next = q_curr\n",
        "\t\t\tp_curr = p_next\n",
        "\t\t\tq_curr = q_next\n",
        "\t\t\tq.head = q_curr\n",
        "llist1 = LinkedList()\n",
        "llist2 = LinkedList()\n",
        "llist1.push(3)\n",
        "llist1.push(2)\n",
        "llist1.push(1)\n",
        "llist1.push(0)\n",
        "for i in range(8, 3, -1):\n",
        "\tllist2.push(i)\n",
        "\n",
        "print(\"First Linked List:\")\n",
        "llist1.printList()\n",
        "\n",
        "print(\"Second Linked List:\")\n",
        "llist2.printList()\n",
        "llist1.merge(p=llist1, q=llist2)\n",
        "\n",
        "print(\"Modified first linked list:\")\n",
        "llist1.printList()\n",
        "\n",
        "print(\"Modified second linked list:\")\n",
        "llist2.printList()"
      ],
      "metadata": {
        "id": "B8Xqiha15ih7",
        "colab": {
          "base_uri": "https://localhost:8080/"
        },
        "outputId": "17c6d8c2-1d2e-4ba9-db80-897cf12dbefc"
      },
      "execution_count": 3,
      "outputs": [
        {
          "output_type": "stream",
          "name": "stdout",
          "text": [
            "First Linked List:\n",
            "0\n",
            "1\n",
            "2\n",
            "3\n",
            "Second Linked List:\n",
            "4\n",
            "5\n",
            "6\n",
            "7\n",
            "8\n",
            "Modified first linked list:\n",
            "0\n",
            "4\n",
            "1\n",
            "5\n",
            "2\n",
            "6\n",
            "3\n",
            "7\n",
            "Modified second linked list:\n",
            "8\n"
          ]
        }
      ]
    },
    {
      "cell_type": "code",
      "source": [
        "#4.In an array, Count Pairs with given sum\n",
        "\n",
        "def getPairsCount(arr, n, sum):\n",
        "\n",
        "\tcount = 0 \n",
        "\tfor i in range(0, n):\n",
        "\t\tfor j in range(i + 1, n):\n",
        "\t\t\tif arr[i] + arr[j] == sum:\n",
        "\t\t\t\tcount += 1\n",
        "\n",
        "\treturn count\n",
        "arr = [1, 5, 7, -1, 5]\n",
        "n = len(arr)\n",
        "sum = 6\n",
        "print(\"Count of pairs is\",\n",
        "\tgetPairsCount(arr, n, sum))"
      ],
      "metadata": {
        "id": "TKrwtQC55ig1",
        "colab": {
          "base_uri": "https://localhost:8080/"
        },
        "outputId": "5aa55fb7-e04a-4dd7-f815-3ac32e67df81"
      },
      "execution_count": 6,
      "outputs": [
        {
          "output_type": "stream",
          "name": "stdout",
          "text": [
            "Count of pairs is 3\n"
          ]
        }
      ]
    },
    {
      "cell_type": "code",
      "source": [
        "#5. Python3 code to find duplicates in O(n) time\n",
        "numRay = [0, 4, 3, 2, 7, 8, 2, 3, 1]\n",
        "arr_size = len(numRay)\n",
        "for i in range(arr_size):\n",
        "\n",
        "\tx = numRay[i] % arr_size\n",
        "\tnumRay[x] = numRay[x] + arr_size\n",
        "\n",
        "print(\"The repeating elements are : \")\n",
        "for i in range(arr_size):\n",
        "\tif (numRay[i] >= arr_size*2):\n",
        "\t\tprint(i, \" \")\n"
      ],
      "metadata": {
        "id": "a7Jopo-l5idt",
        "colab": {
          "base_uri": "https://localhost:8080/"
        },
        "outputId": "7402b78f-6cd2-4269-8db1-bdb0611960b5"
      },
      "execution_count": 7,
      "outputs": [
        {
          "output_type": "stream",
          "name": "stdout",
          "text": [
            "The repeating elements are : \n",
            "2  \n",
            "3  \n"
          ]
        }
      ]
    },
    {
      "cell_type": "code",
      "source": [
        "#6.Find the Kth largest and Kth smallest number in an array\n",
        "def kthSmallest(arr, N, K):\n",
        "\tarr.sort()\n",
        "\treturn arr[K-1]\n",
        "if __name__ == '__main__':\n",
        "\tarr = [12, 3, 5, 7, 19]\n",
        "\tN = len(arr)\n",
        "\tK = 2\n",
        "\tprint(\"K'th smallest element is\",\n",
        "\t\tkthSmallest(arr, N, K))"
      ],
      "metadata": {
        "id": "l9db0JeC5iZg",
        "colab": {
          "base_uri": "https://localhost:8080/"
        },
        "outputId": "18a5970c-ccae-4d76-8505-2bb309151554"
      },
      "execution_count": 8,
      "outputs": [
        {
          "output_type": "stream",
          "name": "stdout",
          "text": [
            "K'th smallest element is 5\n"
          ]
        }
      ]
    },
    {
      "cell_type": "code",
      "source": [
        "# 7.Move all the negative elements to one side of the array\n",
        "def move(arr):\n",
        "  arr.sort()\n",
        "arr = [ -1, 2, -3, 4, 5, 6, -7, 8, 9 ]\n",
        "move(arr)\n",
        "for e in arr:\n",
        "    print(e , end = \" \")"
      ],
      "metadata": {
        "id": "f-e8YZah5iXx",
        "colab": {
          "base_uri": "https://localhost:8080/"
        },
        "outputId": "72a67ece-fb1e-42ce-91e6-e614d0c54ff8"
      },
      "execution_count": 9,
      "outputs": [
        {
          "output_type": "stream",
          "name": "stdout",
          "text": [
            "-7 -3 -1 2 4 5 6 8 9 "
          ]
        }
      ]
    },
    {
      "cell_type": "code",
      "source": [
        "# 8.Reverse a string using a stack data structure\n",
        "\n",
        "def createStack():\n",
        "\tstack = []\n",
        "\treturn stack\n",
        "\n",
        "\n",
        "def size(stack):\n",
        "\treturn len(stack)\n",
        "\n",
        "\n",
        "def isEmpty(stack):\n",
        "\tif size(stack) == 0:\n",
        "\t\treturn true\n",
        "\n",
        "def push(stack, item):\n",
        "\tstack.append(item)\n",
        "\n",
        "\n",
        "def pop(stack):\n",
        "\tif isEmpty(stack):\n",
        "\t\treturn\n",
        "\treturn stack.pop()\n",
        "\n",
        "\n",
        "def reverse(string):\n",
        "\tn = len(string)\n",
        "\tstack = createStack()\n",
        "\tfor i in range(0, n, 1):\n",
        "\t\tpush(stack, string[i])\n",
        "\tstring = \"\"\n",
        "\tfor i in range(0, n, 1):\n",
        "\t\tstring += pop(stack)\n",
        "\n",
        "\treturn string\n",
        "string = \"GeeksQuiz\"\n",
        "string = reverse(string)\n",
        "print(\"Reversed string is \" + string)"
      ],
      "metadata": {
        "id": "ZbGbwx6B5hoC",
        "colab": {
          "base_uri": "https://localhost:8080/"
        },
        "outputId": "303dc9ce-c03f-4092-cffc-4fa326ccd77c"
      },
      "execution_count": 10,
      "outputs": [
        {
          "output_type": "stream",
          "name": "stdout",
          "text": [
            "Reversed string is ziuQskeeG\n"
          ]
        }
      ]
    },
    {
      "cell_type": "code",
      "source": [
        "#9.Evaluate a postfix expression using stack\n",
        "class Evaluate:\n",
        "\tdef __init__(self, capacity):\n",
        "\t\tself.top = -1\n",
        "\t\tself.capacity = capacity\n",
        "\t\tself.array = []\n",
        "\n",
        "\tdef isEmpty(self):\n",
        "\t\treturn True if self.top == -1 else False\n",
        "\n",
        "\tdef peek(self):\n",
        "\t\treturn self.array[-1]\n",
        "\n",
        "\tdef pop(self):\n",
        "\t\tif not self.isEmpty():\n",
        "\t\t\tself.top -= 1\n",
        "\t\t\treturn self.array.pop()\n",
        "\t\telse:\n",
        "\t\t\treturn \"$\"\n",
        "\n",
        "\tdef push(self, op):\n",
        "\t\tself.top += 1\n",
        "\t\tself.array.append(op)\n",
        "\n",
        "\tdef evaluatePostfix(self, exp):\n",
        "\t\tfor i in exp:\n",
        "\t\t\tif i.isdigit():\n",
        "\t\t\t\tself.push(i)\n",
        "\t\t\telse:\n",
        "\t\t\t\tval1 = self.pop()\n",
        "\t\t\t\tval2 = self.pop()\n",
        "\t\t\t\tself.push(str(eval(val2 + i + val1)))\n",
        "\n",
        "\t\treturn int(self.pop())\n",
        "exp = \"231*+9-\"\n",
        "obj = Evaluate(len(exp))\n",
        "print (\"postfix evaluation: %d\"%(obj.evaluatePostfix(exp)))"
      ],
      "metadata": {
        "id": "0Ugx9ThO5hmd",
        "colab": {
          "base_uri": "https://localhost:8080/"
        },
        "outputId": "d5b57f72-a4c3-4d15-8752-e6e4232d8ce5"
      },
      "execution_count": 11,
      "outputs": [
        {
          "output_type": "stream",
          "name": "stdout",
          "text": [
            "postfix evaluation: -4\n"
          ]
        }
      ]
    },
    {
      "cell_type": "code",
      "source": [
        "#10.Implement a queue using the stack data structure\n",
        "\n",
        "class Queue:\n",
        "\tdef __init__(self):\n",
        "\t\tself.s1 = []\n",
        "\t\tself.s2 = []\n",
        "\n",
        "\tdef enQueue(self, x):\n",
        "\t\twhile len(self.s1) != 0:\n",
        "\t\t\tself.s2.append(self.s1[-1])\n",
        "\t\t\tself.s1.pop()\n",
        "\t\tself.s1.append(x)\n",
        "\t\twhile len(self.s2) != 0:\n",
        "\t\t\tself.s1.append(self.s2[-1])\n",
        "\t\t\tself.s2.pop()\n",
        "\tdef deQueue(self):\n",
        "\t\tif len(self.s1) == 0:\n",
        "\t\t\tprint(\"Q is Empty\")\n",
        "\t\tx = self.s1[-1]\n",
        "\t\tself.s1.pop()\n",
        "\t\treturn x\n",
        "\t\t\n",
        "if __name__ == '__main__':\n",
        "\tq = Queue()\n",
        "\tq.enQueue(1)\n",
        "\tq.enQueue(2)\n",
        "\tq.enQueue(3)\n",
        "\n",
        "\tprint(q.deQueue())\n",
        "\tprint(q.deQueue())\n",
        "\tprint(q.deQueue())"
      ],
      "metadata": {
        "id": "U9K-wGna5hhO",
        "colab": {
          "base_uri": "https://localhost:8080/"
        },
        "outputId": "343402aa-106b-4d8c-ef44-4329fda15c2f"
      },
      "execution_count": 12,
      "outputs": [
        {
          "output_type": "stream",
          "name": "stdout",
          "text": [
            "1\n",
            "2\n",
            "3\n"
          ]
        }
      ]
    }
  ],
  "metadata": {
    "colab": {
      "provenance": []
    },
    "kernelspec": {
      "display_name": "Python 3",
      "name": "python3"
    }
  },
  "nbformat": 4,
  "nbformat_minor": 0
}